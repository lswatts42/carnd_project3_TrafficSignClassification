{
 "cells": [
  {
   "cell_type": "markdown",
   "metadata": {},
   "source": [
    "# Self-Driving Car Engineer Nanodegree\n",
    "\n",
    "## Deep Learning\n",
    "\n",
    "## Project: Build a Traffic Sign Recognition Classifier\n",
    "\n",
    "In this notebook, a template is provided for you to implement your functionality in stages, which is required to successfully complete this project. If additional code is required that cannot be included in the notebook, be sure that the Python code is successfully imported and included in your submission if necessary. \n",
    "\n",
    "> **Note**: Once you have completed all of the code implementations, you need to finalize your work by exporting the iPython Notebook as an HTML document. Before exporting the notebook to html, all of the code cells need to have been run so that reviewers can see the final implementation and output. You can then export the notebook by using the menu above and navigating to  \\n\",\n",
    "    \"**File -> Download as -> HTML (.html)**. Include the finished document along with this notebook as your submission. \n",
    "\n",
    "In addition to implementing code, there is a writeup to complete. The writeup should be completed in a separate file, which can be either a markdown file or a pdf document. There is a [write up template](https://github.com/udacity/CarND-Traffic-Sign-Classifier-Project/blob/master/writeup_template.md) that can be used to guide the writing process. Completing the code template and writeup template will cover all of the [rubric points](https://review.udacity.com/#!/rubrics/481/view) for this project.\n",
    "\n",
    "The [rubric](https://review.udacity.com/#!/rubrics/481/view) contains \"Stand Out Suggestions\" for enhancing the project beyond the minimum requirements. The stand out suggestions are optional. If you decide to pursue the \"stand out suggestions\", you can include the code in this Ipython notebook and also discuss the results in the writeup file.\n",
    "\n",
    "\n",
    ">**Note:** Code and Markdown cells can be executed using the **Shift + Enter** keyboard shortcut. In addition, Markdown cells can be edited by typically double-clicking the cell to enter edit mode."
   ]
  },
  {
   "cell_type": "markdown",
   "metadata": {},
   "source": [
    "---\n",
    "## Step 0: Load The Data"
   ]
  },
  {
   "cell_type": "code",
   "execution_count": 1,
   "metadata": {
    "collapsed": true
   },
   "outputs": [],
   "source": [
    "# Load pickled data\n",
    "import pickle\n",
    "\n",
    "training_file = \"data/train.p\"\n",
    "validation_file= './data/valid.p'\n",
    "testing_file = './data/test.p'\n",
    "\n",
    "with open(training_file, mode='rb') as f:\n",
    "    train = pickle.load(f)\n",
    "with open(validation_file, mode='rb') as f:\n",
    "    valid = pickle.load(f)\n",
    "with open(testing_file, mode='rb') as f:\n",
    "    test = pickle.load(f)\n",
    "    \n",
    "X_train, y_train = train['features'], train['labels']\n",
    "X_valid, y_valid = valid['features'], valid['labels']\n",
    "X_test, y_test = test['features'], test['labels']"
   ]
  },
  {
   "cell_type": "markdown",
   "metadata": {},
   "source": [
    "---\n",
    "\n",
    "## Step 1: Dataset Summary & Exploration\n",
    "\n",
    "The pickled data is a dictionary with 4 key/value pairs:\n",
    "\n",
    "- `'features'` is a 4D array containing raw pixel data of the traffic sign images, (num examples, width, height, channels).\n",
    "- `'labels'` is a 1D array containing the label/class id of the traffic sign. The file `signnames.csv` contains id -> name mappings for each id.\n",
    "- `'sizes'` is a list containing tuples, (width, height) representing the original width and height the image.\n",
    "- `'coords'` is a list containing tuples, (x1, y1, x2, y2) representing coordinates of a bounding box around the sign in the image. **THESE COORDINATES ASSUME THE ORIGINAL IMAGE. THE PICKLED DATA CONTAINS RESIZED VERSIONS (32 by 32) OF THESE IMAGES**\n",
    "\n",
    "Complete the basic data summary below. Use python, numpy and/or pandas methods to calculate the data summary rather than hard coding the results. For example, the [pandas shape method](http://pandas.pydata.org/pandas-docs/stable/generated/pandas.DataFrame.shape.html) might be useful for calculating some of the summary results. "
   ]
  },
  {
   "cell_type": "markdown",
   "metadata": {},
   "source": [
    "### Provide a Basic Summary of the Data Set Using Python, Numpy and/or Pandas"
   ]
  },
  {
   "cell_type": "code",
   "execution_count": 2,
   "metadata": {},
   "outputs": [
    {
     "name": "stdout",
     "output_type": "stream",
     "text": [
      "Number of training examples = 34799\n",
      "Number of validation examples = 4410\n",
      "Number of testing examples = 12630\n",
      "Image data shape = (32, 32, 3)\n",
      "Number of classes = 42\n"
     ]
    }
   ],
   "source": [
    "## summary of the dataset\n",
    "\n",
    "# Number of training examples\n",
    "n_train = (X_train.shape[0])\n",
    "\n",
    "# Number of validation examples\n",
    "n_validation = X_valid.shape[0]\n",
    "\n",
    "# Number of testing examples.\n",
    "n_test = X_test.shape[0]\n",
    "\n",
    "# What's the shape of an traffic sign image?\n",
    "image_shape = (X_train.shape[1:4])#],X_train.shape[2],X_train.shape[3])\n",
    "\n",
    "# How many unique classes/labels there are in the dataset.\n",
    "n_classes = max((train['labels']))\n",
    "\n",
    "print(\"Number of training examples =\", n_train)\n",
    "print(\"Number of validation examples =\", n_validation)\n",
    "print(\"Number of testing examples =\", n_test)\n",
    "print(\"Image data shape =\", image_shape)\n",
    "print(\"Number of classes =\", n_classes)"
   ]
  },
  {
   "cell_type": "markdown",
   "metadata": {},
   "source": [
    "### Include an exploratory visualization of the dataset"
   ]
  },
  {
   "cell_type": "markdown",
   "metadata": {},
   "source": [
    "Visualize the German Traffic Signs Dataset using the pickled file(s). This is open ended, suggestions include: plotting traffic sign images, plotting the count of each sign, etc. \n",
    "\n",
    "The [Matplotlib](http://matplotlib.org/) [examples](http://matplotlib.org/examples/index.html) and [gallery](http://matplotlib.org/gallery.html) pages are a great resource for doing visualizations in Python.\n",
    "\n",
    "**NOTE:** It's recommended you start with something simple first. If you wish to do more, come back to it after you've completed the rest of the sections. It can be interesting to look at the distribution of classes in the training, validation and test set. Is the distribution the same? Are there more examples of some classes than others?"
   ]
  },
  {
   "cell_type": "code",
   "execution_count": 3,
   "metadata": {},
   "outputs": [
    {
     "data": {
      "text/plain": [
       "<matplotlib.image.AxesImage at 0x1e69d1b77b8>"
      ]
     },
     "execution_count": 3,
     "metadata": {},
     "output_type": "execute_result"
    },
    {
     "data": {
      "image/png": "[encoded data removed]",
      "text/plain": [
       "<matplotlib.figure.Figure at 0x1e6850e1cc0>"
      ]
     },
     "metadata": {},
     "output_type": "display_data"
    }
   ],
   "source": [
    "### Data exploration visualization code goes here.\n",
    "\n",
    "import matplotlib.pyplot as plt\n",
    "import numpy as np\n",
    "# Visualizations will be shown in the notebook.\n",
    "%matplotlib inline\n",
    "plt.imshow(X_test[1000])"
   ]
  },
  {
   "cell_type": "code",
   "execution_count": 4,
   "metadata": {},
   "outputs": [
    {
     "data": {
      "text/plain": [
       "<matplotlib.image.AxesImage at 0x1e69ffc0320>"
      ]
     },
     "execution_count": 4,
     "metadata": {},
     "output_type": "execute_result"
    },
    {
     "data": {
      "image/png": "[encoded data removed]",
      "text/plain": [
       "<matplotlib.figure.Figure at 0x1e6850e1f60>"
      ]
     },
     "metadata": {},
     "output_type": "display_data"
    }
   ],
   "source": [
    "plt.imshow(X_test[2])"
   ]
  },
  {
   "cell_type": "code",
   "execution_count": 5,
   "metadata": {},
   "outputs": [
    {
     "data": {
      "text/plain": [
       "(array([ 180., 1980., 2010., 1260., 1770., 1650.,  360., 1290., 1260.,\n",
       "        1320., 1800., 1170., 1890., 1920.,  690.,  540.,  360.,  990.,\n",
       "        1080.,  180.,  300.,  270.,  330.,  450.,  240., 1350.,  540.,\n",
       "         210.,  480.,  240.,  390.,  690.,  210.,  599.,  360., 1080.,\n",
       "         330.,  180., 1860.,  270.,  300.,  420.]),\n",
       " array([ 0,  1,  2,  3,  4,  5,  6,  7,  8,  9, 10, 11, 12, 13, 14, 15, 16,\n",
       "        17, 18, 19, 20, 21, 22, 23, 24, 25, 26, 27, 28, 29, 30, 31, 32, 33,\n",
       "        34, 35, 36, 37, 38, 39, 40, 41, 42]),\n",
       " <a list of 42 Patch objects>)"
      ]
     },
     "execution_count": 5,
     "metadata": {},
     "output_type": "execute_result"
    },
    {
     "data": {
      "image/png": "[encoded data removed]",
      "text/plain": [
       "<matplotlib.figure.Figure at 0x1e69ff85358>"
      ]
     },
     "metadata": {},
     "output_type": "display_data"
    }
   ],
   "source": [
    "# Histogram of all the sign labels (numbers 1-42)\n",
    "plt.hist(train['labels'], bins=np.arange(43))"
   ]
  },
  {
   "cell_type": "code",
   "execution_count": 6,
   "metadata": {},
   "outputs": [
    {
     "data": {
      "text/plain": [
       "(array([ 30., 240., 240., 150., 210., 210.,  60., 150., 150., 150., 210.,\n",
       "        150., 210., 240.,  90.,  90.,  60., 120., 120.,  30.,  60.,  60.,\n",
       "         60.,  60.,  30., 150.,  60.,  30.,  60.,  30.,  60.,  90.,  30.,\n",
       "         90.,  60., 120.,  60.,  30., 210.,  30.,  60.,  60.]),\n",
       " array([ 0,  1,  2,  3,  4,  5,  6,  7,  8,  9, 10, 11, 12, 13, 14, 15, 16,\n",
       "        17, 18, 19, 20, 21, 22, 23, 24, 25, 26, 27, 28, 29, 30, 31, 32, 33,\n",
       "        34, 35, 36, 37, 38, 39, 40, 41, 42]),\n",
       " <a list of 42 Patch objects>)"
      ]
     },
     "execution_count": 6,
     "metadata": {},
     "output_type": "execute_result"
    },
    {
     "data": {
      "image/png": "[encoded data removed]",
      "text/plain": [
       "<matplotlib.figure.Figure at 0x1e6a0147b38>"
      ]
     },
     "metadata": {},
     "output_type": "display_data"
    }
   ],
   "source": [
    "# Distribution of Validation Labels\n",
    "plt.hist(valid['labels'], bins=np.arange(43))"
   ]
  },
  {
   "cell_type": "code",
   "execution_count": 7,
   "metadata": {},
   "outputs": [
    {
     "data": {
      "text/plain": [
       "(array([ 60., 720., 750., 450., 660., 630., 150., 450., 450., 480., 660.,\n",
       "        420., 690., 720., 270., 210., 150., 360., 390.,  60.,  90.,  90.,\n",
       "        120., 150.,  90., 480., 180.,  60., 150.,  90., 150., 270.,  60.,\n",
       "        210., 120., 390., 120.,  60., 690.,  90.,  90., 150.]),\n",
       " array([ 0,  1,  2,  3,  4,  5,  6,  7,  8,  9, 10, 11, 12, 13, 14, 15, 16,\n",
       "        17, 18, 19, 20, 21, 22, 23, 24, 25, 26, 27, 28, 29, 30, 31, 32, 33,\n",
       "        34, 35, 36, 37, 38, 39, 40, 41, 42]),\n",
       " <a list of 42 Patch objects>)"
      ]
     },
     "execution_count": 7,
     "metadata": {},
     "output_type": "execute_result"
    },
    {
     "data": {
      "image/png": "[encoded data removed]",
      "text/plain": [
       "<matplotlib.figure.Figure at 0x1e6a01d2b00>"
      ]
     },
     "metadata": {},
     "output_type": "display_data"
    }
   ],
   "source": [
    "# Distribution of Test Labels\n",
    "plt.hist(test['labels'], bins=np.arange(43))"
   ]
  },
  {
   "cell_type": "markdown",
   "metadata": {},
   "source": [
    "----\n",
    "\n",
    "## Step 2: Design and Test a Model Architecture\n",
    "\n",
    "Design and implement a deep learning model that learns to recognize traffic signs. Train and test your model on the [German Traffic Sign Dataset](http://benchmark.ini.rub.de/?section=gtsrb&subsection=dataset).\n",
    "\n",
    "The LeNet-5 implementation shown in the [classroom](https://classroom.udacity.com/nanodegrees/nd013/parts/fbf77062-5703-404e-b60c-95b78b2f3f9e/modules/6df7ae49-c61c-4bb2-a23e-6527e69209ec/lessons/601ae704-1035-4287-8b11-e2c2716217ad/concepts/d4aca031-508f-4e0b-b493-e7b706120f81) at the end of the CNN lesson is a solid starting point. You'll have to change the number of classes and possibly the preprocessing, but aside from that it's plug and play! \n",
    "\n",
    "With the LeNet-5 solution from the lecture, you should expect a validation set accuracy of about 0.89. To meet specifications, the validation set accuracy will need to be at least 0.93. It is possible to get an even higher accuracy, but 0.93 is the minimum for a successful project submission. \n",
    "\n",
    "There are various aspects to consider when thinking about this problem:\n",
    "\n",
    "- Neural network architecture (is the network over or underfitting?)\n",
    "- Play around preprocessing techniques (normalization, rgb to grayscale, etc)\n",
    "- Number of examples per label (some have more than others).\n",
    "- Generate fake data.\n",
    "\n",
    "Here is an example of a [published baseline model on this problem](http://yann.lecun.com/exdb/publis/pdf/sermanet-ijcnn-11.pdf). It's not required to be familiar with the approach used in the paper but, it's good practice to try to read papers like these."
   ]
  },
  {
   "cell_type": "markdown",
   "metadata": {},
   "source": [
    "### Pre-process the Data Set (normalization, grayscale, etc.)"
   ]
  },
  {
   "cell_type": "markdown",
   "metadata": {},
   "source": [
    "Minimally, the image data should be normalized so that the data has mean zero and equal variance. For image data, `(pixel - 128)/ 128` is a quick way to approximately normalize the data and can be used in this project. \n",
    "\n",
    "Other pre-processing steps are optional. You can try different techniques to see if it improves performance. \n",
    "\n",
    "Use the code cell (or multiple code cells, if necessary) to implement the first step of your project."
   ]
  },
  {
   "cell_type": "code",
   "execution_count": 8,
   "metadata": {
    "collapsed": true
   },
   "outputs": [],
   "source": [
    "# Convert to Grayscale\n",
    "X_train_new = X_train.copy()\n",
    "X_valid_new = X_valid.copy()\n",
    "X_test_new = X_test.copy()\n",
    "\n",
    "X_train_gray = np.sum(X_train_new/3, axis = 3, keepdims=True)\n",
    "X_valid_gray = np.sum(X_valid_new/3, axis = 3, keepdims=True)\n",
    "X_test_gray = np.sum(X_test_new/3, axis = 3, keepdims=True)"
   ]
  },
  {
   "cell_type": "code",
   "execution_count": 9,
   "metadata": {},
   "outputs": [
    {
     "name": "stdout",
     "output_type": "stream",
     "text": [
      "WARNING:tensorflow:\n",
      "The TensorFlow contrib module will not be included in TensorFlow 2.0.\n",
      "For more information, please see:\n",
      "  * https://github.com/tensorflow/community/blob/master/rfcs/20180907-contrib-sunset.md\n",
      "  * https://github.com/tensorflow/addons\n",
      "  * https://github.com/tensorflow/io (for I/O related ops)\n",
      "If you depend on functionality not listed there, please file an issue.\n",
      "\n"
     ]
    }
   ],
   "source": [
    "# Rotate Images and add to the dataset\n",
    "import math\n",
    "import tensorflow as tf\n",
    "\n",
    "X_train_gray_new = X_train_gray.copy()\n",
    "X_train_gray_new2 = X_train_gray.copy()\n",
    "\n",
    "# Rotate Images\n",
    "degrees = 180\n",
    "rotate_images = tf.contrib.image.rotate(images=X_train_gray_new, angles=degrees * math.pi / 180, interpolation='NEAREST', name=None)\n",
    "\n",
    "with tf.Session() as sess:\n",
    "    X_train_gray_rotated = sess.run(rotate_images)\n",
    "    \n",
    "# Add the rotated images to the dataset\n",
    "X_train_doubled = np.append(X_train_gray_new2, X_train_gray_rotated, axis=0)\n",
    "y_train_doubled = np.append(y_train, y_train)"
   ]
  },
  {
   "cell_type": "code",
   "execution_count": 10,
   "metadata": {},
   "outputs": [
    {
     "data": {
      "text/plain": [
       "<matplotlib.image.AxesImage at 0x1e6fdeb3d68>"
      ]
     },
     "execution_count": 10,
     "metadata": {},
     "output_type": "execute_result"
    },
    {
     "data": {
      "image/png": "[encoded data removed]",
      "text/plain": [
       "<matplotlib.figure.Figure at 0x1e6f79f36a0>"
      ]
     },
     "metadata": {},
     "output_type": "display_data"
    }
   ],
   "source": [
    "X_train_new33 = X_train.copy()\n",
    "tf.contrib.image.rotate(images=X_train_new33, angles=180 * math.pi / 180, interpolation='NEAREST', name=None)\n",
    "plt.imshow(X_train_new33[1])"
   ]
  },
  {
   "cell_type": "code",
   "execution_count": 11,
   "metadata": {},
   "outputs": [
    {
     "data": {
      "text/plain": [
       "<matplotlib.image.AxesImage at 0x1e6fdf4e7b8>"
      ]
     },
     "execution_count": 11,
     "metadata": {},
     "output_type": "execute_result"
    },
    {
     "data": {
      "image/png": "[encoded data removed]",
      "text/plain": [
       "<matplotlib.figure.Figure at 0x1e6fdece550>"
      ]
     },
     "metadata": {},
     "output_type": "display_data"
    }
   ],
   "source": [
    "plt.imshow(np.squeeze(X_train_gray[100]), cmap = 'gray')"
   ]
  },
  {
   "cell_type": "code",
   "execution_count": 12,
   "metadata": {},
   "outputs": [
    {
     "data": {
      "text/plain": [
       "<matplotlib.image.AxesImage at 0x1e6fe25bbe0>"
      ]
     },
     "execution_count": 12,
     "metadata": {},
     "output_type": "execute_result"
    },
    {
     "data": {
      "image/png": "[encoded data removed]",
      "text/plain": [
       "<matplotlib.figure.Figure at 0x1e6fdfe2da0>"
      ]
     },
     "metadata": {},
     "output_type": "display_data"
    }
   ],
   "source": [
    "plt.imshow(X_train[100])"
   ]
  },
  {
   "cell_type": "code",
   "execution_count": 13,
   "metadata": {},
   "outputs": [
    {
     "name": "stdout",
     "output_type": "stream",
     "text": [
      "34799\n"
     ]
    },
    {
     "data": {
      "image/png": "[encoded data removed]",
      "text/plain": [
       "<matplotlib.figure.Figure at 0x1e6fe278f98>"
      ]
     },
     "metadata": {},
     "output_type": "display_data"
    }
   ],
   "source": [
    "plt.imshow(np.squeeze(X_train_doubled[100+n_train]), cmap = 'gray')\n",
    "print(n_train)"
   ]
  },
  {
   "cell_type": "code",
   "execution_count": 14,
   "metadata": {
    "collapsed": true
   },
   "outputs": [],
   "source": [
    "# Normalize the data\n",
    "X_train_doubled = (np.float32(X_train_doubled) - 0)/255\n",
    "X_valid_gray = (np.float32(X_valid_gray) - 0)/255\n",
    "X_test_gray = (np.float32(X_test_gray) - 0)/255"
   ]
  },
  {
   "cell_type": "markdown",
   "metadata": {},
   "source": [
    "### Model Architecture"
   ]
  },
  {
   "cell_type": "code",
   "execution_count": 15,
   "metadata": {
    "collapsed": true
   },
   "outputs": [],
   "source": [
    "# Set hyperparameters\n",
    "from sklearn.utils import shuffle\n",
    "\n",
    "EPOCHS = 12\n",
    "BATCH_SIZE = 128"
   ]
  },
  {
   "cell_type": "code",
   "execution_count": 16,
   "metadata": {
    "collapsed": true
   },
   "outputs": [],
   "source": [
    "### Define network architecture\n",
    "\n",
    "def LeNet(x, keep_prob):    \n",
    "    # Arguments used for tf.truncated_normal, randomly defines variables for the weights and biases for each layer\n",
    "    mu = 0\n",
    "    sigma = 0.1\n",
    "    \n",
    "    # BONUS LAYER 0: Convolutional. Input = 32x32x1. Output = 32x32x16.\n",
    "    F_W_conv0 = tf.Variable(tf.truncated_normal([3,3,1,16], mu, sigma))\n",
    "    F_b_conv0 = tf.Variable(tf.truncated_normal([16], mu, sigma))\n",
    "    strides_conv0 = [1, 1, 1, 1]\n",
    "    padding_conv0 = 'SAME'\n",
    "    conv0 = tf.nn.conv2d(x, F_W_conv0, strides_conv0, padding_conv0) \n",
    "    conv0 = tf.nn.bias_add(conv0,F_b_conv0)\n",
    "    \n",
    "    # Activation.\n",
    "    conv0 = tf.nn.relu6(conv0)\n",
    "\n",
    "    # Layer 1: Convolutional. Input = 32x32x16. Output = 28x28x64.\n",
    "    F_W_conv1 = tf.Variable(tf.truncated_normal([3,3,16,64], mu, sigma))\n",
    "    F_b_conv1 = tf.Variable(tf.truncated_normal([64], mu, sigma))\n",
    "    strides_conv1 = [1, 1, 1, 1]\n",
    "    padding_conv1 = 'VALID'\n",
    "    conv1 = tf.nn.conv2d(conv0, F_W_conv1, strides_conv1, padding_conv1) \n",
    "    conv1 = tf.nn.bias_add(conv1,F_b_conv1)\n",
    "    \n",
    "    # Activation.\n",
    "    conv1 = tf.nn.relu6(conv1)\n",
    "\n",
    "    # Pooling. Input = 28x28x64. Output = 14x14x64.\n",
    "    ksize_pool1 = [1, 2, 2, 1]\n",
    "    strides_pool1 = [1, 2, 2, 1]\n",
    "    padding_pool1 = 'VALID'\n",
    "    pool1 = tf.nn.max_pool(conv1, ksize_pool1, strides_pool1, padding_pool1)\n",
    "\n",
    "    # Layer 2: Convolutional. Input = 14x14x64. Output = 10x10x128.\n",
    "    F_W_conv2 = tf.Variable(tf.truncated_normal([5,5,64,128], mu, sigma))\n",
    "    F_b_conv2 = tf.Variable(tf.truncated_normal([128], mu, sigma))\n",
    "    strides_conv2 = [1, 1, 1, 1]\n",
    "    padding_conv2 = 'VALID'\n",
    "    conv2 = tf.nn.conv2d(pool1, F_W_conv2, strides_conv2, padding_conv2) \n",
    "    conv2 = tf.nn.bias_add(conv2,F_b_conv2)\n",
    "    \n",
    "    # Activation.\n",
    "    conv2 = tf.nn.relu6(conv2)\n",
    "\n",
    "    # Pooling. Input = 10x10x128. Output = 5x5x128.\n",
    "    ksize_pool2 = [1, 2, 2, 1]\n",
    "    strides_pool2 = [1, 2, 2, 1]\n",
    "    padding_pool2 = 'VALID'\n",
    "    pool2 = tf.nn.max_pool(conv2, ksize_pool2, strides_pool2, padding_pool2)\n",
    "\n",
    "    # Flatten. Input = 5x5x128. Output = 1x3200.\n",
    "    in_shape = pool2.get_shape().as_list()\n",
    "    fc3 = tf.reshape(pool2, [-1, in_shape[1]*in_shape[2]*in_shape[3]])\n",
    "    # BONUS: Flatten 1st convolution/pooling as well and add it to the end\n",
    "    in_shape1 = pool1.get_shape().as_list()\n",
    "    pool1_flat = tf.reshape(pool1, [-1, in_shape1[1]*in_shape1[2]*in_shape1[3]])\n",
    "    fc3 = tf.concat([fc3, pool1_flat],-1)\n",
    "    \n",
    "    # Layer 3: Fully Connected. Input = 17600. Output = 320.\n",
    "    F_W_fc3 = tf.Variable(tf.truncated_normal([17600, 320], mu, sigma))\n",
    "    F_b_fc3 = tf.Variable(tf.truncated_normal([320], mu, sigma))\n",
    "    fc3 = tf.add(tf.matmul(fc3, F_W_fc3), F_b_fc3)\n",
    "    \n",
    "    # Activation.\n",
    "    fc3 = tf.nn.relu6(fc3)\n",
    "    # Add dropout\n",
    "    fc3 = tf.nn.dropout(fc3, keep_prob)\n",
    "\n",
    "    # Layer 3.5: BONUS Fully Connected Layer. Input = 320. Output = 320.\n",
    "    F_W_fc3_5 = tf.Variable(tf.truncated_normal([320, 320], mu, sigma))\n",
    "    F_b_fc3_5 = tf.Variable(tf.truncated_normal([320], mu, sigma))\n",
    "    fc3_5 = tf.add(tf.matmul(fc3, F_W_fc3_5), F_b_fc3_5)\n",
    "    \n",
    "    # Activation and dropout\n",
    "    fc3_5 = tf.nn.relu6(fc3_5)\n",
    "    fc3_5 = tf.nn.dropout(fc3_5, keep_prob)    \n",
    "    \n",
    "    # Layer 4: Fully Connected. Input = 320. Output = 84.\n",
    "    F_W_fc4 = tf.Variable(tf.truncated_normal([320, 84], mu, sigma))\n",
    "    F_b_fc4 = tf.Variable(tf.truncated_normal([84], mu, sigma))\n",
    "    fc4 = tf.add(tf.matmul(fc3_5, F_W_fc4), F_b_fc4)\n",
    "        \n",
    "    # Activation and dropout\n",
    "    fc4 = tf.math.sigmoid(fc4)\n",
    "    fc4 = tf.nn.dropout(fc4, keep_prob)\n",
    "    \n",
    "    # Layer 5: Fully Connected. Input = 84. Output = 42.\n",
    "    F_W_fc5 = tf.Variable(tf.truncated_normal([84, 42], mu, sigma))\n",
    "    F_b_fc5 = tf.Variable(tf.truncated_normal([42], mu, sigma))\n",
    "    logits = tf.add(tf.matmul(fc4, F_W_fc5), F_b_fc5)\n",
    "    \n",
    "    \n",
    "    return logits, F_W_conv0, F_W_conv1, F_W_conv2, F_W_fc3, F_W_fc4, F_W_fc5, F_W_fc3_5"
   ]
  },
  {
   "cell_type": "markdown",
   "metadata": {},
   "source": [
    "### Train, Validate and Test the Model"
   ]
  },
  {
   "cell_type": "markdown",
   "metadata": {},
   "source": [
    "A validation set can be used to assess how well the model is performing. A low accuracy on the training and validation\n",
    "sets imply underfitting. A high accuracy on the training set but low accuracy on the validation set implies overfitting."
   ]
  },
  {
   "cell_type": "code",
   "execution_count": 17,
   "metadata": {
    "collapsed": true,
    "scrolled": false
   },
   "outputs": [],
   "source": [
    "### Set placeholders for training\n",
    "x = tf.placeholder(tf.float32, (None, 32, 32, 1))\n",
    "y = tf.placeholder(tf.int32, (None))\n",
    "keep_prob = tf.placeholder(tf.float32)\n",
    "\n",
    "one_hot_y = tf.one_hot(y, 42)\n"
   ]
  },
  {
   "cell_type": "code",
   "execution_count": 18,
   "metadata": {},
   "outputs": [
    {
     "name": "stdout",
     "output_type": "stream",
     "text": [
      "WARNING:tensorflow:From <ipython-input-16-d100b56c7913>:69: calling dropout (from tensorflow.python.ops.nn_ops) with keep_prob is deprecated and will be removed in a future version.\n",
      "Instructions for updating:\n",
      "Please use `rate` instead of `keep_prob`. Rate should be set to `rate = 1 - keep_prob`.\n",
      "WARNING:tensorflow:From <ipython-input-18-583302389e85>:5: softmax_cross_entropy_with_logits (from tensorflow.python.ops.nn_ops) is deprecated and will be removed in a future version.\n",
      "Instructions for updating:\n",
      "\n",
      "Future major versions of TensorFlow will allow gradients to flow\n",
      "into the labels input on backprop by default.\n",
      "\n",
      "See `tf.nn.softmax_cross_entropy_with_logits_v2`.\n",
      "\n"
     ]
    }
   ],
   "source": [
    "# Define other parts of the training process\n",
    "rate = 0.001\n",
    "\n",
    "logits, F_W_conv0, F_W_conv1, F_W_conv2, F_W_fc3, F_W_fc4, F_W_fc5, F_W_fc3_5 = LeNet(x, keep_prob)\n",
    "cross_entropy = tf.nn.softmax_cross_entropy_with_logits(labels=one_hot_y, logits=logits)\n",
    "loss_operation = tf.reduce_mean(cross_entropy) + 0.01*(tf.nn.l2_loss(F_W_conv0)) + 0.01*(tf.nn.l2_loss(F_W_conv1) + 0.01*tf.nn.l2_loss(F_W_conv2) + 0.01*tf.nn.l2_loss(F_W_fc3) + 0.01*tf.nn.l2_loss(F_W_fc4) + 0.01*tf.nn.l2_loss(F_W_fc5) + 0.01*tf.nn.l2_loss(F_W_fc3_5))\n",
    "optimizer = tf.train.AdamOptimizer(learning_rate = rate)\n",
    "training_operation = optimizer.minimize(loss_operation)"
   ]
  },
  {
   "cell_type": "code",
   "execution_count": 19,
   "metadata": {
    "collapsed": true
   },
   "outputs": [],
   "source": [
    "# Define Validation accuracy calculations\n",
    "correct_prediction = tf.equal(tf.argmax(logits, 1), tf.argmax(one_hot_y, 1))\n",
    "accuracy_operation = tf.reduce_mean(tf.cast(correct_prediction, tf.float32))\n",
    "saver = tf.train.Saver()\n",
    "\n",
    "def evaluate(X_data, y_data):\n",
    "    num_examples = len(X_data)\n",
    "    total_accuracy = 0\n",
    "    sess = tf.get_default_session()\n",
    "    for offset in range(0, num_examples, BATCH_SIZE):\n",
    "        batch_x, batch_y = X_data[offset:offset+BATCH_SIZE], y_data[offset:offset+BATCH_SIZE]\n",
    "        accuracy = sess.run(accuracy_operation, feed_dict={x: batch_x, y: batch_y, keep_prob: 1.0})\n",
    "        total_accuracy += (accuracy * len(batch_x))\n",
    "    return total_accuracy / num_examples"
   ]
  },
  {
   "cell_type": "code",
   "execution_count": 20,
   "metadata": {},
   "outputs": [
    {
     "name": "stdout",
     "output_type": "stream",
     "text": [
      "Training...\n",
      "\n",
      "EPOCH 1 ...\n",
      "Training Accuracy = 0.709\n",
      "Validation Accuracy = 0.665\n",
      "\n",
      "EPOCH 2 ...\n",
      "Training Accuracy = 0.929\n",
      "Validation Accuracy = 0.884\n",
      "\n",
      "EPOCH 3 ...\n",
      "Training Accuracy = 0.970\n",
      "Validation Accuracy = 0.922\n",
      "\n",
      "EPOCH 4 ...\n",
      "Training Accuracy = 0.982\n",
      "Validation Accuracy = 0.932\n",
      "\n",
      "EPOCH 5 ...\n",
      "Training Accuracy = 0.987\n",
      "Validation Accuracy = 0.942\n",
      "\n",
      "EPOCH 6 ...\n",
      "Training Accuracy = 0.985\n",
      "Validation Accuracy = 0.932\n",
      "\n",
      "EPOCH 7 ...\n",
      "Training Accuracy = 0.990\n",
      "Validation Accuracy = 0.943\n",
      "\n",
      "EPOCH 8 ...\n",
      "Training Accuracy = 0.991\n",
      "Validation Accuracy = 0.947\n",
      "\n",
      "EPOCH 9 ...\n",
      "Training Accuracy = 0.990\n",
      "Validation Accuracy = 0.937\n",
      "\n",
      "EPOCH 10 ...\n",
      "Training Accuracy = 0.990\n",
      "Validation Accuracy = 0.948\n",
      "\n",
      "EPOCH 11 ...\n",
      "Training Accuracy = 0.991\n",
      "Validation Accuracy = 0.946\n",
      "\n",
      "EPOCH 12 ...\n",
      "Training Accuracy = 0.991\n",
      "Validation Accuracy = 0.951\n",
      "\n",
      "EPOCH 13 ...\n",
      "Training Accuracy = 0.991\n",
      "Validation Accuracy = 0.949\n",
      "\n",
      "EPOCH 14 ...\n",
      "Training Accuracy = 0.992\n",
      "Validation Accuracy = 0.952\n",
      "\n",
      "EPOCH 15 ...\n",
      "Training Accuracy = 0.993\n",
      "Validation Accuracy = 0.956\n",
      "\n",
      "EPOCH 16 ...\n",
      "Training Accuracy = 0.992\n",
      "Validation Accuracy = 0.946\n",
      "\n",
      "EPOCH 17 ...\n",
      "Training Accuracy = 0.993\n",
      "Validation Accuracy = 0.948\n",
      "\n",
      "EPOCH 18 ...\n",
      "Training Accuracy = 0.993\n",
      "Validation Accuracy = 0.948\n",
      "\n",
      "EPOCH 19 ...\n",
      "Training Accuracy = 0.991\n",
      "Validation Accuracy = 0.947\n",
      "\n",
      "EPOCH 20 ...\n",
      "Training Accuracy = 0.993\n",
      "Validation Accuracy = 0.952\n",
      "\n",
      "Testing Accuracy = 0.940\n",
      "Model saved\n"
     ]
    }
   ],
   "source": [
    "### Run everything!!\n",
    "\n",
    "with tf.Session() as sess:\n",
    "    sess.run(tf.global_variables_initializer())\n",
    "\n",
    "    num_examples = len(X_train_doubled)\n",
    "\n",
    "#     saver.restore(sess, './lenet94')\n",
    "    print(\"Training...\")\n",
    "    print()\n",
    "    for i in range(EPOCHS):\n",
    "        X_train_doubled, y_train_doubled = shuffle(X_train_doubled, y_train_doubled)\n",
    "        for offset in range(0, num_examples, BATCH_SIZE):\n",
    "            end = offset + BATCH_SIZE\n",
    "            batch_x, batch_y = X_train_doubled[offset:end], y_train_doubled[offset:end]\n",
    "\n",
    "            sess.run(training_operation, feed_dict={x: batch_x, y: batch_y, keep_prob: 0.86})\n",
    "            \n",
    "        training_accuracy = evaluate(X_train_doubled, y_train_doubled)\n",
    "        validation_accuracy = evaluate(X_valid_gray, y_valid)\n",
    "        \n",
    "        print(\"EPOCH {} ...\".format(i+1))\n",
    "        print(\"Training Accuracy = {:.3f}\".format(training_accuracy))\n",
    "        print(\"Validation Accuracy = {:.3f}\".format(validation_accuracy))\n",
    "        print()\n",
    "    \n",
    "    # Testing accuracy at the end of the training/validation session. \n",
    "    testing_accuracy = evaluate(X_test_gray, y_test)\n",
    "    print(\"Testing Accuracy = {:.3f}\".format(testing_accuracy))\n",
    "    \n",
    "    # Save the model for later\n",
    "    saver.save(sess, './lenet94')\n",
    "    print(\"Model saved\")"
   ]
  },
  {
   "cell_type": "markdown",
   "metadata": {},
   "source": [
    " ---\n",
    "\n",
    "## Step 3: Test a Model on New Images\n",
    "\n",
    "To give yourself more insight into how your model is working, download at least five pictures of German traffic signs from the web and use your model to predict the traffic sign type.\n",
    "\n",
    "You may find `signnames.csv` useful as it contains mappings from the class id (integer) to the actual sign name."
   ]
  },
  {
   "cell_type": "markdown",
   "metadata": {},
   "source": [
    "### Load and Output the Images"
   ]
  },
  {
   "cell_type": "code",
   "execution_count": 21,
   "metadata": {},
   "outputs": [
    {
     "data": {
      "text/plain": [
       "<matplotlib.image.AxesImage at 0x1e6b5358dd8>"
      ]
     },
     "execution_count": 21,
     "metadata": {},
     "output_type": "execute_result"
    },
    {
     "data": {
      "image/png": "[encoded data removed]",
      "text/plain": [
       "<matplotlib.figure.Figure at 0x1e6fe28d9e8>"
      ]
     },
     "metadata": {},
     "output_type": "display_data"
    }
   ],
   "source": [
    "### Load the images and plot them\n",
    "## Image source: Google search\n",
    "\n",
    "from PIL import Image\n",
    "kph30 = Image.open('./german_signs_resized/30_resized.jpg')\n",
    "plt.imshow(kph30)"
   ]
  },
  {
   "cell_type": "code",
   "execution_count": 22,
   "metadata": {},
   "outputs": [
    {
     "data": {
      "text/plain": [
       "<matplotlib.image.AxesImage at 0x1e6b8c4d9b0>"
      ]
     },
     "execution_count": 22,
     "metadata": {},
     "output_type": "execute_result"
    },
    {
     "data": {
      "image/png": "[encoded data removed]",
      "text/plain": [
       "<matplotlib.figure.Figure at 0x1e6b564f898>"
      ]
     },
     "metadata": {},
     "output_type": "display_data"
    }
   ],
   "source": [
    "child = Image.open('./german_signs_resized/children_crossing_resized.jpg')\n",
    "plt.imshow(child)"
   ]
  },
  {
   "cell_type": "code",
   "execution_count": 23,
   "metadata": {},
   "outputs": [
    {
     "data": {
      "text/plain": [
       "<matplotlib.image.AxesImage at 0x1e6bb310668>"
      ]
     },
     "execution_count": 23,
     "metadata": {},
     "output_type": "execute_result"
    },
    {
     "data": {
      "image/png": "[encoded data removed]",
      "text/plain": [
       "<matplotlib.figure.Figure at 0x1e7280ad6d8>"
      ]
     },
     "metadata": {},
     "output_type": "display_data"
    }
   ],
   "source": [
    "yield_sign = Image.open('./german_signs_resized/yield_resized.jpg')\n",
    "plt.imshow(yield_sign)"
   ]
  },
  {
   "cell_type": "code",
   "execution_count": 24,
   "metadata": {},
   "outputs": [
    {
     "data": {
      "text/plain": [
       "<matplotlib.image.AxesImage at 0x1e73e056da0>"
      ]
     },
     "execution_count": 24,
     "metadata": {},
     "output_type": "execute_result"
    },
    {
     "data": {
      "image/png": "[encoded data removed]",
      "text/plain": [
       "<matplotlib.figure.Figure at 0x1e6bb340da0>"
      ]
     },
     "metadata": {},
     "output_type": "display_data"
    }
   ],
   "source": [
    "stop_sign = Image.open('./german_signs_resized/stop_resized.jpg')\n",
    "plt.imshow(stop_sign)"
   ]
  },
  {
   "cell_type": "code",
   "execution_count": 25,
   "metadata": {},
   "outputs": [
    {
     "data": {
      "text/plain": [
       "<matplotlib.image.AxesImage at 0x1e73e0f8470>"
      ]
     },
     "execution_count": 25,
     "metadata": {},
     "output_type": "execute_result"
    },
    {
     "data": {
      "image/png": "[encoded data removed]",
      "text/plain": [
       "<matplotlib.figure.Figure at 0x1e73e081ef0>"
      ]
     },
     "metadata": {},
     "output_type": "display_data"
    }
   ],
   "source": [
    "no_entry = Image.open('./german_signs_resized/no_entry_resized.jpg')\n",
    "plt.imshow(no_entry)"
   ]
  },
  {
   "cell_type": "markdown",
   "metadata": {},
   "source": [
    "### Predict the Sign Type for Each Image"
   ]
  },
  {
   "cell_type": "code",
   "execution_count": 26,
   "metadata": {
    "collapsed": true
   },
   "outputs": [],
   "source": [
    "### Preprocess the new images\n",
    "\n",
    "# Grayscale the downloaded images\n",
    "X_extra_test = np.array([np.array(kph30), np.array(child), np.array(yield_sign), np.array(stop_sign), np.array(no_entry)])\n",
    "X_extra_test_gray = np.sum(X_extra_test/3, axis = 3, keepdims=True)\n",
    "# Normalize the images\n",
    "X_extra_test_gray = (np.float32(X_extra_test_gray) - 0)/255 \n",
    "y_extra_test = np.array([1, 28, 13, 14, 17])"
   ]
  },
  {
   "cell_type": "markdown",
   "metadata": {},
   "source": [
    "### Analyze Performance"
   ]
  },
  {
   "cell_type": "code",
   "execution_count": 27,
   "metadata": {},
   "outputs": [
    {
     "name": "stdout",
     "output_type": "stream",
     "text": [
      "INFO:tensorflow:Restoring parameters from ./lenet94\n",
      "Testing Accuracy = 1.000\n"
     ]
    }
   ],
   "source": [
    "### Calculate the accuracy for these 5 new images. \n",
    "### For example, if the model predicted 1 out of 5 signs correctly, it's 20% accurate on these new images.\n",
    "with tf.Session() as sess:\n",
    "\n",
    "    saver.restore(sess, './lenet94')\n",
    "    tot_accuracy = evaluate(X_extra_test_gray, y_extra_test)\n",
    "    print(\"Testing Accuracy = {:.3f}\".format(tot_accuracy))"
   ]
  },
  {
   "cell_type": "markdown",
   "metadata": {},
   "source": [
    "### Output Top 5 Softmax Probabilities For Each Image Found on the Web"
   ]
  },
  {
   "cell_type": "markdown",
   "metadata": {},
   "source": [
    "For each of the new images, print out the model's softmax probabilities to show the **certainty** of the model's predictions (limit the output to the top 5 probabilities for each image). [`tf.nn.top_k`](https://www.tensorflow.org/versions/r0.12/api_docs/python/nn.html#top_k) could prove helpful here. \n",
    "\n",
    "The example below demonstrates how tf.nn.top_k can be used to find the top k predictions for each image.\n",
    "\n",
    "`tf.nn.top_k` will return the values and indices (class ids) of the top k predictions. So if k=3, for each sign, it'll return the 3 largest probabilities (out of a possible 43) and the correspoding class ids.\n",
    "\n",
    "Take this numpy array as an example. The values in the array represent predictions. The array contains softmax probabilities for five candidate images with six possible classes. `tf.nn.top_k` is used to choose the three classes with the highest probability:\n",
    "\n",
    "```\n",
    "# (5, 6) array\n",
    "a = np.array([[ 0.24879643,  0.07032244,  0.12641572,  0.34763842,  0.07893497,\n",
    "         0.12789202],\n",
    "       [ 0.28086119,  0.27569815,  0.08594638,  0.0178669 ,  0.18063401,\n",
    "         0.15899337],\n",
    "       [ 0.26076848,  0.23664738,  0.08020603,  0.07001922,  0.1134371 ,\n",
    "         0.23892179],\n",
    "       [ 0.11943333,  0.29198961,  0.02605103,  0.26234032,  0.1351348 ,\n",
    "         0.16505091],\n",
    "       [ 0.09561176,  0.34396535,  0.0643941 ,  0.16240774,  0.24206137,\n",
    "         0.09155967]])\n",
    "```\n",
    "\n",
    "Running it through `sess.run(tf.nn.top_k(tf.constant(a), k=3))` produces:\n",
    "\n",
    "```\n",
    "TopKV2(values=array([[ 0.34763842,  0.24879643,  0.12789202],\n",
    "       [ 0.28086119,  0.27569815,  0.18063401],\n",
    "       [ 0.26076848,  0.23892179,  0.23664738],\n",
    "       [ 0.29198961,  0.26234032,  0.16505091],\n",
    "       [ 0.34396535,  0.24206137,  0.16240774]]), indices=array([[3, 0, 5],\n",
    "       [0, 1, 4],\n",
    "       [0, 5, 1],\n",
    "       [1, 3, 5],\n",
    "       [1, 4, 3]], dtype=int32))\n",
    "```\n",
    "\n",
    "Looking just at the first row we get `[ 0.34763842,  0.24879643,  0.12789202]`, you can confirm these are the 3 largest probabilities in `a`. You'll also notice `[3, 0, 5]` are the corresponding indices."
   ]
  },
  {
   "cell_type": "code",
   "execution_count": 28,
   "metadata": {},
   "outputs": [
    {
     "name": "stdout",
     "output_type": "stream",
     "text": [
      "INFO:tensorflow:Restoring parameters from ./lenet94\n",
      "TopKV2(values=array([[0.988, 0.010, 0.001],\n",
      "       [0.998, 0.001, 0.000],\n",
      "       [1.000, 0.000, 0.000],\n",
      "       [0.993, 0.003, 0.001],\n",
      "       [1.000, 0.000, 0.000]], dtype=float32), indices=array([[ 1,  0,  4],\n",
      "       [28, 27, 29],\n",
      "       [13, 22, 15],\n",
      "       [14,  0,  3],\n",
      "       [17, 14, 34]]))\n"
     ]
    }
   ],
   "source": [
    "### Print out the top five softmax probabilities for the predictions on the German traffic sign images found on the web. \n",
    "\n",
    "with tf.Session() as sess:\n",
    "    \n",
    "    saver.restore(sess, './lenet94')\n",
    "    \n",
    "    softmax = tf.nn.softmax(logits)\n",
    "    softmax_output = sess.run(softmax, feed_dict={x: X_extra_test_gray, keep_prob: 1.0})\n",
    "    \n",
    "    TopK = sess.run(tf.nn.top_k(tf.constant(softmax_output), k=3))\n",
    "    \n",
    "    np.set_printoptions(formatter={'float': lambda TopK: \"{0:0.3f}\".format(TopK)})\n",
    "    print(TopK)"
   ]
  },
  {
   "cell_type": "markdown",
   "metadata": {},
   "source": [
    "### Project Writeup\n",
    "\n",
    "Once you have completed the code implementation, document your results in a project writeup using this [template](https://github.com/udacity/CarND-Traffic-Sign-Classifier-Project/blob/master/writeup_template.md) as a guide. The writeup can be in a markdown or pdf file. "
   ]
  },
  {
   "cell_type": "markdown",
   "metadata": {},
   "source": [
    "> **Note**: Once you have completed all of the code implementations and successfully answered each question above, you may finalize your work by exporting the iPython Notebook as an HTML document. You can do this by using the menu above and navigating to  \\n\",\n",
    "    \"**File -> Download as -> HTML (.html)**. Include the finished document along with this notebook as your submission."
   ]
  },
  {
   "cell_type": "markdown",
   "metadata": {},
   "source": [
    "---\n",
    "\n",
    "## Step 4 (Optional): Visualize the Neural Network's State with Test Images\n",
    "\n",
    " This Section is not required to complete but acts as an additional excersise for understaning the output of a neural network's weights. While neural networks can be a great learning device they are often referred to as a black box. We can understand what the weights of a neural network look like better by plotting their feature maps. After successfully training your neural network you can see what it's feature maps look like by plotting the output of the network's weight layers in response to a test stimuli image. From these plotted feature maps, it's possible to see what characteristics of an image the network finds interesting. For a sign, maybe the inner network feature maps react with high activation to the sign's boundary outline or to the contrast in the sign's painted symbol.\n",
    "\n",
    " Provided for you below is the function code that allows you to get the visualization output of any tensorflow weight layer you want. The inputs to the function should be a stimuli image, one used during training or a new one you provided, and then the tensorflow variable name that represents the layer's state during the training process, for instance if you wanted to see what the [LeNet lab's](https://classroom.udacity.com/nanodegrees/nd013/parts/fbf77062-5703-404e-b60c-95b78b2f3f9e/modules/6df7ae49-c61c-4bb2-a23e-6527e69209ec/lessons/601ae704-1035-4287-8b11-e2c2716217ad/concepts/d4aca031-508f-4e0b-b493-e7b706120f81) feature maps looked like for it's second convolutional layer you could enter conv2 as the tf_activation variable.\n",
    "\n",
    "For an example of what feature map outputs look like, check out NVIDIA's results in their paper [End-to-End Deep Learning for Self-Driving Cars](https://devblogs.nvidia.com/parallelforall/deep-learning-self-driving-cars/) in the section Visualization of internal CNN State. NVIDIA was able to show that their network's inner weights had high activations to road boundary lines by comparing feature maps from an image with a clear path to one without. Try experimenting with a similar test to show that your trained network's weights are looking for interesting features, whether it's looking at differences in feature maps from images with or without a sign, or even what feature maps look like in a trained network vs a completely untrained one on the same sign image.\n",
    "\n",
    "<figure>\n",
    " <img src=\"visualize_cnn.png\" width=\"380\" alt=\"Combined Image\" />\n",
    " <figcaption>\n",
    " <p></p> \n",
    " <p style=\"text-align: center;\"> Your output should look something like this (above)</p> \n",
    " </figcaption>\n",
    "</figure>\n",
    " <p></p> \n"
   ]
  },
  {
   "cell_type": "code",
   "execution_count": 29,
   "metadata": {
    "collapsed": true
   },
   "outputs": [],
   "source": [
    "### Visualize your network's feature maps here.\n",
    "### Feel free to use as many code cells as needed.\n",
    "\n",
    "# image_input: the test image being fed into the network to produce the feature maps\n",
    "# tf_activation: should be a tf variable name used during your training procedure that represents the calculated state of a specific weight layer\n",
    "# activation_min/max: can be used to view the activation contrast in more detail, by default matplot sets min and max to the actual min and max values of the output\n",
    "# plt_num: used to plot out multiple different weight feature map sets on the same block, just extend the plt number for each new feature map entry\n",
    "\n",
    "def outputFeatureMap(image_input, tf_activation, activation_min=-1, activation_max=-1 ,plt_num=1):\n",
    "    # Here make sure to preprocess your image_input in a way your network expects\n",
    "    # with size, normalization, ect if needed\n",
    "    # image_input =\n",
    "    # Note: x should be the same name as your network's tensorflow data placeholder variable\n",
    "    # If you get an error tf_activation is not defined it may be having trouble accessing the variable from inside a function\n",
    "    activation = tf_activation.eval(session=sess,feed_dict={x : image_input})\n",
    "    featuremaps = activation.shape[3]\n",
    "    plt.figure(plt_num, figsize=(15,15))\n",
    "    for featuremap in range(featuremaps):\n",
    "        plt.subplot(6,8, featuremap+1) # sets the number of feature maps to show on each row and column\n",
    "        plt.title('FeatureMap ' + str(featuremap)) # displays the feature map number\n",
    "        if activation_min != -1 & activation_max != -1:\n",
    "            plt.imshow(activation[0,:,:, featuremap], interpolation=\"nearest\", vmin =activation_min, vmax=activation_max, cmap=\"gray\")\n",
    "        elif activation_max != -1:\n",
    "            plt.imshow(activation[0,:,:, featuremap], interpolation=\"nearest\", vmax=activation_max, cmap=\"gray\")\n",
    "        elif activation_min !=-1:\n",
    "            plt.imshow(activation[0,:,:, featuremap], interpolation=\"nearest\", vmin=activation_min, cmap=\"gray\")\n",
    "        else:\n",
    "            plt.imshow(activation[0,:,:, featuremap], interpolation=\"nearest\", cmap=\"gray\")"
   ]
  }
 ],
 "metadata": {
  "anaconda-cloud": {},
  "kernelspec": {
   "display_name": "Python 3",
   "language": "python",
   "name": "python3"
  },
  "language_info": {
   "codemirror_mode": {
    "name": "ipython",
    "version": 3
   },
   "file_extension": ".py",
   "mimetype": "text/x-python",
   "name": "python",
   "nbconvert_exporter": "python",
   "pygments_lexer": "ipython3",
   "version": "3.6.1"
  }
 },
 "nbformat": 4,
 "nbformat_minor": 1
}
